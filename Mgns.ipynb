{
 "cells": [
  {
   "cell_type": "code",
   "execution_count": 1,
   "metadata": {},
   "outputs": [
    {
     "data": {
      "application/javascript": [
       "Jupyter.notebook.config.update({\n",
       "  'load_extensions': { 'vim_binding/vim_binding': true },\n",
       "});"
      ],
      "text/plain": [
       "<IPython.core.display.Javascript object>"
      ]
     },
     "metadata": {},
     "output_type": "display_data"
    }
   ],
   "source": [
    "%%javascript\n",
    "Jupyter.notebook.config.update({\n",
    "  'load_extensions': { 'vim_binding/vim_binding': true },\n",
    "});"
   ]
  },
  {
   "cell_type": "code",
   "execution_count": 4,
   "metadata": {
    "collapsed": true
   },
   "outputs": [],
   "source": [
    "import numpy\n",
    "import scipy.special\n",
    "import matplotlib.pyplot as plt\n",
    "%matplotlib inline\n",
    "\n",
    "# scale function to make sure we have a range from 0.01 to 0.99\n",
    "# sigmoid goes from > 0 to < 1\n",
    "scale = lambda i: (numpy.asfarray(i) / 255.0 * 0.99) + 0.01"
   ]
  },
  {
   "cell_type": "markdown",
   "metadata": {},
   "source": [
    "## Sigmoid function\n",
    "\n",
    "\\begin{equation*}\n",
    "y = \\frac{1}{1 + e^{-x}}\n",
    "\\end{equation*}\n",
    "\n",
    "## Weight update\n",
    "\n",
    "\\begin{equation*}\n",
    "\\Delta W_{jk} = \\alpha \\cdot E_k \\cdot O_k(1 - O_k) \\cdot O_j^T\n",
    "\\end{equation*}\n",
    "\n",
    "\\begin{equation*}\n",
    "\\frac{\\partial E}{\\partial w_{jk}} = -(t_k - o_k) \\cdot sigmoid(\\sum_j w_{jk} \\cdot o_j)(1 - sigmoid(\\sum_{j} w_{jk} \\cdot o_j)) \\cdot o_j\n",
    "\\end{equation*}"
   ]
  },
  {
   "cell_type": "markdown",
   "metadata": {},
   "source": [
    "## Sigmoid function"
   ]
  },
  {
   "cell_type": "code",
   "execution_count": 87,
   "metadata": {
    "scrolled": true
   },
   "outputs": [
    {
     "data": {
      "image/png": "[encoded data removed]",
      "text/plain": [
       "<matplotlib.figure.Figure at 0x1065dc510>"
      ]
     },
     "metadata": {},
     "output_type": "display_data"
    }
   ],
   "source": [
    "x = numpy.linspace(-5, 5)\n",
    "line = plt.plot(x, scipy.special.expit(x), '--', linewidth=2)"
   ]
  },
  {
   "cell_type": "markdown",
   "metadata": {},
   "source": [
    "# Neural Network Implementation\n",
    "\n",
    "The weights inside the neural network carry state\n"
   ]
  },
  {
   "cell_type": "code",
   "execution_count": 6,
   "metadata": {
    "collapsed": true
   },
   "outputs": [],
   "source": [
    "class NeuralNetwork:\n",
    "    def __init__(self, n_inputnodes, n_hiddennodes, n_outputnodes, learning_rate):\n",
    "        self.learning_rate = learning_rate\n",
    "      \n",
    "        self.wih = self._init_rnd_weights(n_inputnodes, n_hiddennodes)\n",
    "        self.who = self._init_rnd_weights(n_hiddennodes, n_outputnodes)\n",
    "\n",
    "        self.activation_function = scipy.special.expit\n",
    "        self.inverse_activation_function = scipy.special.logit\n",
    "        \n",
    "    def _init_rnd_weights(self, n_layer_1, n_layer_2):\n",
    "        weights = numpy.random.normal(0.0, pow(n_layer_1, -0.5), (n_layer_2, n_layer_1)) \n",
    "        \n",
    "        return weights\n",
    "        \n",
    "    def _calc_layer(self, weights, inputs):\n",
    "        weighted_inputs = numpy.dot(weights, inputs)\n",
    "        outputs = self.activation_function(weighted_inputs)\n",
    "        \n",
    "        return outputs\n",
    "\n",
    "    def _backprop(self, errors, outputs, inputs):\n",
    "        error_delta = self.learning_rate * numpy.dot(\n",
    "            (errors * outputs * (1.0 - outputs)), \n",
    "            inputs.T)\n",
    "        \n",
    "        return error_delta\n",
    "        \n",
    "    def train(self, inputs_list, targets_list):\n",
    "        inputs = numpy.array(inputs_list, ndmin=2).T\n",
    "        targets = numpy.array(targets_list, ndmin=2).T\n",
    "      \n",
    "        hidden_outputs = self._calc_layer(self.wih, inputs)\n",
    "        final_outputs = self._calc_layer(self.who, hidden_outputs)\n",
    "        \n",
    "        output_errors = targets - final_outputs\n",
    "        hidden_errors = numpy.dot(self.who.T, output_errors)\n",
    "        \n",
    "        self.who += self._backprop(output_errors, final_outputs, hidden_outputs)\n",
    "        self.wih += self._backprop(hidden_errors, hidden_outputs, inputs)\n",
    "        \n",
    "        pass\n",
    "   \n",
    "    def query(self, inputs_list):\n",
    "        # convert input into 2d array\n",
    "        inputs = numpy.array(inputs_list, ndmin=2).T\n",
    "       \n",
    "        hidden_outputs = self._calc_layer(self.wih, inputs)\n",
    "        final_outputs = self._calc_layer(self.who, hidden_outputs)\n",
    "        \n",
    "        return final_outputs\n",
    "  \n",
    "    # scale values to sth between 0.01 and 0.99\n",
    "    def _scale_values(self, values):\n",
    "        # to 0\n",
    "        values -= numpy.min(values)\n",
    "        # to 1\n",
    "        values /= numpy.max(values)\n",
    "        # bump it up to 0.01 - 0.99\n",
    "        values *= 0.98\n",
    "        values += 0.01\n",
    "        \n",
    "        pass\n",
    "\n",
    "    def backquery(self, targets_list):\n",
    "        # transpose the targets list to a vertical array\n",
    "        final_outputs = numpy.array(targets_list, ndmin=2).T\n",
    "        \n",
    "        # calculate the signal into the final output layer\n",
    "        final_inputs = self.inverse_activation_function(final_outputs)\n",
    "\n",
    "        # calculate the signal out of the hidden layer\n",
    "        hidden_outputs = numpy.dot(self.who.T, final_inputs)\n",
    "        self._scale_values(hidden_outputs)\n",
    "        \n",
    "        # calculate the signal into the hidden layer\n",
    "        hidden_inputs = self.inverse_activation_function(hidden_outputs)\n",
    "        \n",
    "        # calculate the signal out of the input layer\n",
    "        inputs = numpy.dot(self.wih.T, hidden_inputs)\n",
    "        self._scale_values(inputs)\n",
    "        \n",
    "        return inputs"
   ]
  },
  {
   "cell_type": "markdown",
   "metadata": {},
   "source": [
    "# Initialize NN\n",
    "\n",
    "Using a specified number of input, hidden and output nodes and a learning_rate."
   ]
  },
  {
   "cell_type": "code",
   "execution_count": 8,
   "metadata": {
    "collapsed": true
   },
   "outputs": [],
   "source": [
    "no_of_output_nodes = 10\n",
    "no_of_input_nodes = 28 * 28\n",
    "no_of_hidden_nodes = 200\n",
    "learning_rate = 0.1\n",
    "nn = NeuralNetwork(no_of_input_nodes, no_of_hidden_nodes, no_of_output_nodes, learning_rate)"
   ]
  },
  {
   "cell_type": "markdown",
   "metadata": {},
   "source": [
    "# Helper functions"
   ]
  },
  {
   "cell_type": "code",
   "execution_count": 69,
   "metadata": {},
   "outputs": [],
   "source": [
    "def get_scaled_inputs(record):\n",
    "    fields = record.split(',')\n",
    "    pixels = fields[1:]\n",
    "    return (numpy.asfarray(pixels) / 255.0) * 0.99 + 0.01\n",
    "\n",
    "def train(network, epochs, records):\n",
    "    for e in range(epochs): \n",
    "        for record in records:\n",
    "            label = get_label(record)\n",
    "            inputs = get_scaled_inputs(record)\n",
    "            targets = numpy.zeros(no_of_output_nodes) + 0.01\n",
    "            targets[int(label)] = 0.99\n",
    "            network.train(inputs, targets)\n",
    "    pass\n",
    "\n",
    "def get_label(record):\n",
    "    fields = record.split(',')\n",
    "    return fields[0]\n",
    "\n",
    "def render_record(record):\n",
    "    fields = record.split(',')\n",
    "    label, pixels = fields[0], fields[1:]\n",
    "    image_array = numpy.asfarray(pixels).reshape((28, 28))\n",
    "    plt.imshow(image_array, cmap='Greys', interpolation='None')\n",
    "    pass\n",
    "\n",
    "def is_match(network, record):\n",
    "    label = get_label(record)\n",
    "    target_number = int(label)\n",
    "    inputs = get_scaled_inputs(record) \n",
    "    outputs = network.query(inputs)\n",
    "    result = numpy.argmax(outputs)\n",
    "    return 1 if result == target_number else 0\n",
    "\n",
    "def get_scores(network, records):\n",
    "    return [is_match(network, record) for record in records]"
   ]
  },
  {
   "cell_type": "markdown",
   "metadata": {},
   "source": [
    "# MNIST"
   ]
  },
  {
   "cell_type": "markdown",
   "metadata": {},
   "source": [
    "## Small data set"
   ]
  },
  {
   "cell_type": "markdown",
   "metadata": {},
   "source": [
    "### Load"
   ]
  },
  {
   "cell_type": "code",
   "execution_count": 70,
   "metadata": {},
   "outputs": [],
   "source": [
    "small_training_data_file = open(\"mnist_train_100.csv\", 'r')\n",
    "#small_training_data_file = open(\"zalando/mnist_train_100.csv\", 'r')\n",
    "small_training_records = small_training_data_file.readlines()\n",
    "small_training_data_file.close()\n",
    "\n",
    "small_test_data_file = open(\"mnist_test_10.csv\", 'r')\n",
    "#small_test_data_file = open(\"zalando/mnist_test_10.csv\", 'r')\n",
    "small_test_records = small_test_data_file.readlines()\n",
    "small_test_data_file.close()"
   ]
  },
  {
   "cell_type": "markdown",
   "metadata": {},
   "source": [
    "### Render train sample"
   ]
  },
  {
   "cell_type": "code",
   "execution_count": 71,
   "metadata": {},
   "outputs": [
    {
     "data": {
      "image/png": "[encoded data removed]",
      "text/plain": [
       "<matplotlib.figure.Figure at 0x1073b6250>"
      ]
     },
     "metadata": {},
     "output_type": "display_data"
    }
   ],
   "source": [
    "sample_training_record = small_training_records[2]\n",
    "render_record(sample_training_record)"
   ]
  },
  {
   "cell_type": "markdown",
   "metadata": {},
   "source": [
    "### Train"
   ]
  },
  {
   "cell_type": "code",
   "execution_count": 72,
   "metadata": {},
   "outputs": [],
   "source": [
    "train(network=nn, epochs=5, records=small_training_data_lines)"
   ]
  },
  {
   "cell_type": "markdown",
   "metadata": {},
   "source": [
    "### Render test sample"
   ]
  },
  {
   "cell_type": "code",
   "execution_count": 73,
   "metadata": {},
   "outputs": [
    {
     "data": {
      "image/png": "[encoded data removed]",
      "text/plain": [
       "<matplotlib.figure.Figure at 0x106607210>"
      ]
     },
     "metadata": {},
     "output_type": "display_data"
    }
   ],
   "source": [
    "sample_test_record = small_test_records[3]\n",
    "render_record(sample_test_record)"
   ]
  },
  {
   "cell_type": "markdown",
   "metadata": {},
   "source": [
    "### Scores"
   ]
  },
  {
   "cell_type": "code",
   "execution_count": 80,
   "metadata": {},
   "outputs": [
    {
     "name": "stdout",
     "output_type": "stream",
     "text": [
      "test value 0 is 0 with 0.771757 certainty\n"
     ]
    }
   ],
   "source": [
    "inputs = get_scaled_inputs(sample_test_record)\n",
    "label = get_label(sample_test_record)\n",
    "outputs = nn.query(inputs)\n",
    "output_value = numpy.argmax(outputs)\n",
    "certainty = outputs[output_value][0]\n",
    "print \"test value {} is {} with {:f} certainty\".format(label, output_value, certainty)"
   ]
  },
  {
   "cell_type": "code",
   "execution_count": 81,
   "metadata": {},
   "outputs": [
    {
     "name": "stdout",
     "output_type": "stream",
     "text": [
      "all-over accuracy = 0.7\n"
     ]
    }
   ],
   "source": [
    "scores = get_scores(nn, small_test_records)\n",
    "print \"all-over accuracy = {}\".format(float(numpy.asarray(scores).sum()) / len(scores))"
   ]
  },
  {
   "cell_type": "markdown",
   "metadata": {},
   "source": [
    "## Full data set"
   ]
  },
  {
   "cell_type": "markdown",
   "metadata": {},
   "source": [
    "### Load"
   ]
  },
  {
   "cell_type": "code",
   "execution_count": 90,
   "metadata": {},
   "outputs": [],
   "source": [
    "#full_training_data_file = open(\"mnist_train.csv\", 'r')\n",
    "full_training_data_file = open(\"zalando/mnist_train.csv\", 'r')\n",
    "full_training_records = full_training_data_file.readlines()\n",
    "full_training_data_file.close()\n",
    "\n",
    "#full_test_data_file = open(\"mnist_test.csv\", 'r')\n",
    "full_test_data_file = open(\"zalando/mnist_test.csv\", 'r')\n",
    "full_test_records = full_test_data_file.readlines()\n",
    "full_test_data_file.close()"
   ]
  },
  {
   "cell_type": "markdown",
   "metadata": {},
   "source": [
    "### Train"
   ]
  },
  {
   "cell_type": "code",
   "execution_count": 92,
   "metadata": {},
   "outputs": [],
   "source": [
    "train(network=nn, epochs=5, records=full_training_records)"
   ]
  },
  {
   "cell_type": "markdown",
   "metadata": {},
   "source": [
    "### Scores"
   ]
  },
  {
   "cell_type": "code",
   "execution_count": 94,
   "metadata": {},
   "outputs": [
    {
     "name": "stdout",
     "output_type": "stream",
     "text": [
      "all-over accuracy = 0.8141\n"
     ]
    }
   ],
   "source": [
    "scores = get_scores(nn, full_test_records)\n",
    "print \"all-over accuracy = {}\".format(float(numpy.asarray(scores).sum()) / len(scores))"
   ]
  },
  {
   "cell_type": "markdown",
   "metadata": {
    "collapsed": true
   },
   "source": [
    "# Try with different learning rate/epoch parameters"
   ]
  },
  {
   "cell_type": "code",
   "execution_count": 195,
   "metadata": {},
   "outputs": [
    {
     "data": {
      "text/plain": [
       "'accuracy = 0.500000'"
      ]
     },
     "execution_count": 195,
     "metadata": {},
     "output_type": "execute_result"
    }
   ],
   "source": [
    "learning_rate = 0.2\n",
    "no_of_hidden_nodes = 200\n",
    "nn2 = NeuralNetwork(no_of_input_nodes, no_of_hidden_nodes, no_of_output_nodes, learning_rate)\n",
    "\n",
    "train(network=nn2, epochs=10, data_list=small_training_data_lines)\n",
    "\n",
    "scores = get_scores(nn2, full_test_records)\n",
    "\"accuracy = {:f}\".format(float(numpy.asarray(scores).sum()) / len(scores))"
   ]
  },
  {
   "cell_type": "markdown",
   "metadata": {},
   "source": [
    "# Backquery test"
   ]
  },
  {
   "cell_type": "code",
   "execution_count": 104,
   "metadata": {},
   "outputs": [
    {
     "data": {
      "text/plain": [
       "<matplotlib.image.AxesImage at 0x1075e28d0>"
      ]
     },
     "execution_count": 104,
     "metadata": {},
     "output_type": "execute_result"
    },
    {
     "data": {
      "image/png": "[encoded data removed]",
      "text/plain": [
       "<matplotlib.figure.Figure at 0x1064ad710>"
      ]
     },
     "metadata": {},
     "output_type": "display_data"
    }
   ],
   "source": [
    "# label to test\n",
    "label = 0\n",
    "# create the output signals for this label\n",
    "targets = numpy.zeros(no_of_output_nodes) + 0.01\n",
    "# all_values[0] is the target label for this record\n",
    "targets[label] = 0.99\n",
    "\n",
    "# get image data\n",
    "image_data = nn.backquery(targets)\n",
    "\n",
    "# plot image data\n",
    "plt.imshow(image_data.reshape(28,28), cmap='Greys', interpolation='None')"
   ]
  },
  {
   "cell_type": "code",
   "execution_count": null,
   "metadata": {
    "collapsed": true
   },
   "outputs": [],
   "source": []
  }
 ],
 "metadata": {
  "kernelspec": {
   "display_name": "Python 2",
   "language": "python",
   "name": "python2"
  },
  "language_info": {
   "codemirror_mode": {
    "name": "ipython",
    "version": 2
   },
   "file_extension": ".py",
   "mimetype": "text/x-python",
   "name": "python",
   "nbconvert_exporter": "python",
   "pygments_lexer": "ipython2",
   "version": "2.7.13"
  }
 },
 "nbformat": 4,
 "nbformat_minor": 2
}

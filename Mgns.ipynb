{
 "cells": [
  {
   "cell_type": "code",
   "execution_count": 1,
   "metadata": {},
   "outputs": [
    {
     "data": {
      "application/javascript": [
       "Jupyter.notebook.config.update({\n",
       "  'load_extensions': { 'vim_binding/vim_binding': true },\n",
       "});"
      ],
      "text/plain": [
       "<IPython.core.display.Javascript object>"
      ]
     },
     "metadata": {},
     "output_type": "display_data"
    }
   ],
   "source": [
    "%%javascript\n",
    "Jupyter.notebook.config.update({\n",
    "  'load_extensions': { 'vim_binding/vim_binding': true },\n",
    "});"
   ]
  },
  {
   "cell_type": "code",
   "execution_count": 9,
   "metadata": {
    "collapsed": true
   },
   "outputs": [],
   "source": [
    "import numpy\n",
    "import scipy.special\n",
    "import matplotlib.pyplot as plt\n",
    "%matplotlib inline\n",
    "\n",
    "# scale function to make sure we have a range from 0.01 to 0.99\n",
    "# sigmoid goes from > 0 to < 1\n",
    "scale = lambda i: (numpy.asfarray(i) / 255.0 * 0.99) + 0.01"
   ]
  },
  {
   "cell_type": "markdown",
   "metadata": {},
   "source": [
    "# Define Neural Network\n",
    "\n",
    "The weights inside the neural network carry state\n"
   ]
  },
  {
   "cell_type": "markdown",
   "metadata": {},
   "source": [
    "## Sigmoid function\n",
    "\n",
    "\\begin{equation*}\n",
    "y = \\frac{1}{1 + e^{-x}}\n",
    "\\end{equation*}\n",
    "\n",
    "## Weight update\n",
    "\n",
    "\\begin{equation*}\n",
    "\\Delta W_{jk} = \\alpha \\cdot E_k \\cdot O_k(1 - O_k) \\cdot O_j^T\n",
    "\\end{equation*}\n",
    "\n",
    "\\begin{equation*}\n",
    "\\frac{\\partial E}{\\partial w_{jk}} = -(t_k - o_k) \\cdot sigmoid(\\sum_j w_{jk} \\cdot o_j)(1 - sigmoid(\\sum_{j} w_{jk} \\cdot o_j)) \\cdot o_j\n",
    "\\end{equation*}"
   ]
  },
  {
   "cell_type": "code",
   "execution_count": null,
   "metadata": {
    "collapsed": true
   },
   "outputs": [],
   "source": []
  },
  {
   "cell_type": "code",
   "execution_count": 3,
   "metadata": {},
   "outputs": [
    {
     "data": {
      "image/png": "[encoded data removed]",
      "text/plain": [
       "<matplotlib.figure.Figure at 0x110478f10>"
      ]
     },
     "metadata": {},
     "output_type": "display_data"
    }
   ],
   "source": [
    "x = numpy.linspace(-5, 5)\n",
    "line = plt.plot(x, scipy.special.expit(x), '--', linewidth=2)"
   ]
  },
  {
   "cell_type": "code",
   "execution_count": 97,
   "metadata": {},
   "outputs": [],
   "source": [
    "def create_random_weights(n_from, n_to):\n",
    "    return numpy.random.normal(\n",
    "        0.0,\n",
    "        pow(n_from, -0.5),\n",
    "        (n_to, n_from),\n",
    "    )\n",
    "\n",
    "def init_network(n_input_nodes, n_hidden_nodes, n_output_nodes):\n",
    "    weights_input_hidden = create_random_weights(\n",
    "        n_from=n_input_nodes,\n",
    "        n_to=n_hidden_nodes)\n",
    "    weights_hidden_output = create_random_weights(\n",
    "        n_from=n_hidden_nodes,\n",
    "        n_to=n_output_nodes)\n",
    "    return (weights_input_hidden, weights_hidden_output)\n",
    "\n",
    "def train_network(input_values, target_values, weights, learning_rate = 0.1):\n",
    "    activation = scipy.special.expit \n",
    "    \n",
    "    inputs = numpy.array(input_values, ndmin=2).T\n",
    "    targets = numpy.array(target_values, ndmin=2).T\n",
    "\n",
    "    (weights_input_hidden, weights_hidden_output) = weights\n",
    "    \n",
    "    hidden_inputs = numpy.dot(weights_input_hidden, inputs)\n",
    "    hidden_outputs = activation(hidden_inputs);\n",
    "\n",
    "    final_inputs = numpy.dot(weights_hidden_output, hidden_outputs)\n",
    "    final_outputs = activation(final_inputs)\n",
    "\n",
    "    output_errors = targets - final_outputs\n",
    "    hidden_errors = numpy.dot(weights_hidden_output.T, output_errors)\n",
    "    weights_hidden_output += learning_rate * numpy.dot((output_errors * final_outputs * (1.0 - final_outputs)), \n",
    "                                    numpy.transpose(hidden_outputs))\n",
    "    weights_input_hidden += learning_rate * numpy.dot((hidden_errors * hidden_outputs * (1.0 - hidden_outputs)),\n",
    "                                   numpy.transpose(inputs))\n",
    "    \n",
    "    \n",
    "    input_vector = numpy.array(input_values, ndmin=2).T\n",
    "    target_vector = numpy.array(target_values, ndmin=2).T\n",
    "   \n",
    "    pass\n",
    "\n",
    "def query_network(weights, input_values):\n",
    "    activation = scipy.special.expit\n",
    "    input_vector = numpy.array(input_values, ndmin=2).T\n",
    "\n",
    "    (weights_input_hidden, weights_hidden_output) = weights\n",
    "    \n",
    "    hidden_inputs = numpy.dot(weights_input_hidden, input_vector)\n",
    "    hidden_results = activation(hidden_inputs)\n",
    "\n",
    "    output_inputs = numpy.dot(weights_hidden_output, hidden_results)\n",
    "    output_results = activation(output_inputs)\n",
    "\n",
    "    return output_results\n",
    "    \n",
    "weights = init_network(\n",
    "    n_input_nodes=28 * 28,\n",
    "    n_hidden_nodes=100,\n",
    "    n_output_nodes=10)\n"
   ]
  },
  {
   "cell_type": "code",
   "execution_count": 230,
   "metadata": {
    "collapsed": true
   },
   "outputs": [],
   "source": [
    "class NeuralNetwork:\n",
    "    def __init__(self, n_inputnodes, n_hiddennodes, n_outputnodes, learning_rate):\n",
    "        self.learning_rate = learning_rate\n",
    "       \n",
    "        #self.wih = self._init_rnd_weights(n_inputnodes, n_hiddennodes)\n",
    "        #self.who = self._init_rnd_weights(n_hiddennodes, n_outputnodes)\n",
    "        n_mgnsnodes = 100\n",
    "        self.wim = self._init_rnd_weights(n_inputnodes, n_mgnsnodes)\n",
    "        self.wmh = self._init_rnd_weights(n_mgnsnodes, n_hiddennodes)\n",
    "        self.who = self._init_rnd_weights(n_hiddennodes, n_outputnodes)\n",
    "\n",
    "        self.activation_function = scipy.special.expit\n",
    "        self.inverse_activation_function = scipy.special.logit\n",
    "        \n",
    "    def _init_rnd_weights(self, n_layer_1, n_layer_2):\n",
    "        weights = numpy.random.normal(0.0, pow(n_layer_1, -0.5), (n_layer_2, n_layer_1)) \n",
    "        \n",
    "        return weights\n",
    "        \n",
    "    def _calc_layer(self, weights, inputs):\n",
    "        weighted_inputs = numpy.dot(weights, inputs)\n",
    "        outputs = self.activation_function(weighted_inputs)\n",
    "        \n",
    "        return outputs\n",
    "\n",
    "    def _backpropagation(self, errors, outputs, inputs):\n",
    "        error_delta = self.learning_rate * numpy.dot(\n",
    "            (errors * outputs * (1.0 - outputs)), \n",
    "            inputs.T)\n",
    "        \n",
    "        return error_delta\n",
    "        \n",
    "    def train(self, inputs_list, targets_list):\n",
    "        inputs = numpy.array(inputs_list, ndmin=2).T\n",
    "        targets = numpy.array(targets_list, ndmin=2).T\n",
    "      \n",
    "        #hidden_outputs = self._calc_layer(self.wih, inputs)\n",
    "        #final_outputs = self._calc_layer(self.who, hidden_outputs)\n",
    "        mgns_outputs = self._calc_layer(self.wim, inputs)\n",
    "        hidden_outputs = self._calc_layer(self.wmh, mgns_outputs)\n",
    "        final_outputs = self._calc_layer(self.who, hidden_outputs)\n",
    "        \n",
    "        output_errors = targets - final_outputs\n",
    "        hidden_errors = numpy.dot(self.who.T, output_errors)\n",
    "        mgns_errors = numpy.dot(self.wmh.T, hidden_errors)\n",
    "        \n",
    "        #self.who += self._backpropagation(output_errors, final_outputs, hidden_outputs)\n",
    "        #self.wih += self._backpropagation(hidden_errors, hidden_outputs, inputs)\n",
    "        self.who += self._backpropagation(output_errors, final_outputs, hidden_outputs)\n",
    "        self.wmh += self._backpropagation(hidden_errors, hidden_outputs, mgns_outputs)\n",
    "        self.wim += self._backpropagation(mgns_errors, mgns_outputs, inputs)\n",
    "        \n",
    "        pass\n",
    "   \n",
    "    def query(self, inputs_list):\n",
    "        # convert flat intput into 2d array\n",
    "        inputs = numpy.array(inputs_list, ndmin=2).T\n",
    "       \n",
    "        mgns_outputs = self._calc_layer(self.wim, inputs)\n",
    "        hidden_outputs = self._calc_layer(self.wmh, mgns_outputs)\n",
    "        #hidden_outputs = self._calc_layer(self.wih, inputs)\n",
    "        final_outputs = self._calc_layer(self.who, hidden_outputs)\n",
    "        \n",
    "        return final_outputs\n",
    "    \n",
    "    def backquery(self, targets_list):\n",
    "        # transpose the targets list to a vertical array\n",
    "        final_outputs = numpy.array(targets_list, ndmin=2).T\n",
    "        \n",
    "        # calculate the signal into the final output layer\n",
    "        final_inputs = self.inverse_activation_function(final_outputs)\n",
    "\n",
    "        # calculate the signal out of the hidden layer\n",
    "        hidden_outputs = numpy.dot(self.who.T, final_inputs)\n",
    "        # scale them back to 0.01 to .99\n",
    "        hidden_outputs -= numpy.min(hidden_outputs)\n",
    "        \n",
    "        hidden_outputs /= numpy.max(hidden_outputs)\n",
    "        hidden_outputs *= 0.98\n",
    "        hidden_outputs += 0.01\n",
    "        \n",
    "        # calculate the signal into the hideen layer\n",
    "        hidden_inputs = self.inverse_activation_function(hidden_outputs)\n",
    "        \n",
    "        # calculate the signal out of the input layer\n",
    "        inputs = numpy.dot(self.wih.T, hidden_inputs)\n",
    "        # scale them back to 0.01 to .99\n",
    "        inputs -= numpy.min(inputs)\n",
    "        inputs /= numpy.max(inputs)\n",
    "        inputs *= 0.98\n",
    "        inputs += 0.01\n",
    "        \n",
    "        return inputs"
   ]
  },
  {
   "cell_type": "markdown",
   "metadata": {},
   "source": [
    "# Initialize\n",
    "\n",
    "Using a specified number of input, hidden and output nodes and a learning_rate."
   ]
  },
  {
   "cell_type": "code",
   "execution_count": 233,
   "metadata": {},
   "outputs": [],
   "source": [
    "no_of_output_nodes = 10\n",
    "no_of_input_nodes = 28 * 28\n",
    "no_of_hidden_nodes = 100\n",
    "learning_rate = 0.15\n",
    "nn = NeuralNetwork(no_of_input_nodes, no_of_hidden_nodes, no_of_output_nodes, learning_rate)"
   ]
  },
  {
   "cell_type": "markdown",
   "metadata": {},
   "source": [
    "# MNIST"
   ]
  },
  {
   "cell_type": "markdown",
   "metadata": {},
   "source": [
    "## Train"
   ]
  },
  {
   "cell_type": "markdown",
   "metadata": {},
   "source": [
    "### Load small training data"
   ]
  },
  {
   "cell_type": "code",
   "execution_count": 208,
   "metadata": {
    "collapsed": true
   },
   "outputs": [],
   "source": [
    "small_training_data_file = open(\"mnist_train_100.csv\", 'r')\n",
    "#small_training_data_file = open(\"zalando/mnist_train_100.csv\", 'r')\n",
    "small_training_data_lines = small_training_data_file.readlines()\n",
    "small_training_data_file.close()"
   ]
  },
  {
   "cell_type": "code",
   "execution_count": 186,
   "metadata": {},
   "outputs": [
    {
     "data": {
      "text/plain": [
       "<matplotlib.image.AxesImage at 0x111ec64d0>"
      ]
     },
     "execution_count": 186,
     "metadata": {},
     "output_type": "execute_result"
    },
    {
     "data": {
      "image/png": "[encoded data removed]",
      "text/plain": [
       "<matplotlib.figure.Figure at 0x111998b10>"
      ]
     },
     "metadata": {},
     "output_type": "display_data"
    }
   ],
   "source": [
    "some_entry = small_training_data_lines[10]\n",
    "fields = some_entry.split(',')\n",
    "first, rest = fields[0], fields[1:]\n",
    "test_value = first\n",
    "image_array = numpy.asfarray(rest).reshape((28, 28))\n",
    "#matplotlib.pyplot.imshow(image_array, cmap='Greys', interpolation='None')\n",
    "plt.imshow(image_array, cmap='Greys', interpolation='None')"
   ]
  },
  {
   "cell_type": "markdown",
   "metadata": {},
   "source": [
    "## Training helper function"
   ]
  },
  {
   "cell_type": "code",
   "execution_count": 202,
   "metadata": {},
   "outputs": [],
   "source": [
    "def train(network, epochs, data_list):\n",
    "    for e in range(epochs): \n",
    "        for record in data_list:\n",
    "            fields = record.split(',')\n",
    "            first, rest = fields[0], fields[1:]\n",
    "            inputs = scale(rest)\n",
    "            targets = numpy.zeros(no_of_output_nodes) + 0.01\n",
    "            targets[int(first)] = 0.99\n",
    "            #train_network(inputs, targets, weights)\n",
    "            network.train(inputs, targets)\n",
    "            pass\n",
    "        pass"
   ]
  },
  {
   "cell_type": "markdown",
   "metadata": {},
   "source": [
    "### Training with small data"
   ]
  },
  {
   "cell_type": "code",
   "execution_count": 218,
   "metadata": {
    "collapsed": true
   },
   "outputs": [],
   "source": [
    "train(network=nn, epochs=5, data_list=small_training_data_lines)"
   ]
  },
  {
   "cell_type": "markdown",
   "metadata": {},
   "source": [
    "## Test with small data"
   ]
  },
  {
   "cell_type": "code",
   "execution_count": 210,
   "metadata": {
    "collapsed": true
   },
   "outputs": [],
   "source": [
    "test_data_file = open(\"mnist_test_10.csv\", 'r')\n",
    "#test_data_file = open(\"zalando/mnist_test_10.csv\", 'r')\n",
    "test_data_list = test_data_file.readlines()\n",
    "test_data_file.close()"
   ]
  },
  {
   "cell_type": "markdown",
   "metadata": {},
   "source": [
    "## Pick the 4th number"
   ]
  },
  {
   "cell_type": "code",
   "execution_count": 190,
   "metadata": {
    "collapsed": true
   },
   "outputs": [],
   "source": [
    "some_entry = test_data_list[3]\n",
    "fields = some_entry.split(',')\n",
    "first, rest = fields[0], fields[1:]\n",
    "test_value = first"
   ]
  },
  {
   "cell_type": "markdown",
   "metadata": {},
   "source": [
    "### Render it"
   ]
  },
  {
   "cell_type": "code",
   "execution_count": 191,
   "metadata": {},
   "outputs": [
    {
     "data": {
      "text/plain": [
       "<matplotlib.image.AxesImage at 0x11230c790>"
      ]
     },
     "execution_count": 191,
     "metadata": {},
     "output_type": "execute_result"
    },
    {
     "data": {
      "image/png": "[encoded data removed]",
      "text/plain": [
       "<matplotlib.figure.Figure at 0x111ffcb50>"
      ]
     },
     "metadata": {},
     "output_type": "display_data"
    }
   ],
   "source": [
    "image_array = numpy.asfarray(rest).reshape((28, 28))\n",
    "plt.imshow(image_array, cmap='Greys', interpolation='None')"
   ]
  },
  {
   "cell_type": "code",
   "execution_count": 219,
   "metadata": {},
   "outputs": [
    {
     "name": "stdout",
     "output_type": "stream",
     "text": [
      "test value 0 is 0 with 0.640254 certainty\n"
     ]
    }
   ],
   "source": [
    "scaled_input = scale(rest)\n",
    "outputs = nn.query(scaled_input)\n",
    "#outputs = query_network(weights, scaled_input)\n",
    "output_value = numpy.argmax(outputs)\n",
    "certainty = outputs[output_value][0]\n",
    "print \"test value {} is {} with {:f} certainty\".format(test_value, output_value, certainty)"
   ]
  },
  {
   "cell_type": "code",
   "execution_count": 212,
   "metadata": {
    "collapsed": true
   },
   "outputs": [],
   "source": [
    "def is_match(network, record):\n",
    "    fields = record.split(',')\n",
    "    first, rest = fields[0], fields[1:]\n",
    "    correct_number = int(first)\n",
    "    scaled_input = scale(rest) \n",
    "    outputs = nn.query(scaled_input)\n",
    "    #outputs = query_network(weights, scaled_input)\n",
    "    result = numpy.argmax(outputs)\n",
    "    return 1 if result == correct_number else 0\n",
    "   \n",
    "scores = [is_match(nn, r) for r in test_data_list]"
   ]
  },
  {
   "cell_type": "code",
   "execution_count": 213,
   "metadata": {},
   "outputs": [
    {
     "name": "stdout",
     "output_type": "stream",
     "text": [
      "accuracy = 0.6\n"
     ]
    }
   ],
   "source": [
    "print \"accuracy = {}\".format(float(numpy.asarray(scores).sum()) / len(scores))"
   ]
  },
  {
   "cell_type": "markdown",
   "metadata": {
    "collapsed": true
   },
   "source": [
    "# Try with different learning rate"
   ]
  },
  {
   "cell_type": "code",
   "execution_count": 195,
   "metadata": {},
   "outputs": [
    {
     "data": {
      "text/plain": [
       "'accuracy = 0.500000'"
      ]
     },
     "execution_count": 195,
     "metadata": {},
     "output_type": "execute_result"
    }
   ],
   "source": [
    "#learning_rate = 0.22\n",
    "learning_rate = 0.2\n",
    "no_of_hidden_nodes = 200\n",
    "nn2 = NeuralNetwork(no_of_input_nodes, no_of_hidden_nodes, no_of_output_nodes, learning_rate)\n",
    "\n",
    "train(network=nn2, epochs=10, data_list=small_training_data_lines)\n",
    "\n",
    "scores = [is_match(nn2, r) for r in test_data_list]\n",
    "\"accuracy = {:f}\".format(float(numpy.asarray(scores).sum()) / len(scores))"
   ]
  },
  {
   "cell_type": "markdown",
   "metadata": {},
   "source": [
    "# Use serious training data"
   ]
  },
  {
   "cell_type": "code",
   "execution_count": 234,
   "metadata": {},
   "outputs": [],
   "source": [
    "#serious_training_data_file = open(\"mnist_train.csv\", 'r')\n",
    "serious_training_data_file = open(\"zalando/mnist_train.csv\", 'r')\n",
    "serious_training_data_lines = serious_training_data_file.readlines()\n",
    "serious_training_data_file.close()\n",
    "\n",
    "#train(network=nn2, epochs=10, data_list=serious_training_data_lines)\n",
    "train(network=nn, epochs=5, data_list=serious_training_data_lines)"
   ]
  },
  {
   "cell_type": "markdown",
   "metadata": {},
   "source": [
    "## With small test sample"
   ]
  },
  {
   "cell_type": "code",
   "execution_count": 216,
   "metadata": {},
   "outputs": [
    {
     "data": {
      "text/plain": [
       "'accuracy = 0.600000'"
      ]
     },
     "execution_count": 216,
     "metadata": {},
     "output_type": "execute_result"
    }
   ],
   "source": [
    "#scores = [is_match(nn2, r) for r in test_data_list]\n",
    "scores = [is_match(nn, r) for r in test_data_list]\n",
    "\"accuracy = {:f}\".format(float(numpy.asarray(scores).sum()) / len(scores))"
   ]
  },
  {
   "cell_type": "markdown",
   "metadata": {},
   "source": [
    "## With serious test sample"
   ]
  },
  {
   "cell_type": "code",
   "execution_count": 235,
   "metadata": {},
   "outputs": [
    {
     "data": {
      "text/plain": [
       "'accuracy = 0.650100'"
      ]
     },
     "execution_count": 235,
     "metadata": {},
     "output_type": "execute_result"
    }
   ],
   "source": [
    "serious_test_data_file = open(\"zalando/mnist_test.csv\", 'r')\n",
    "#serious_test_data_file = open(\"mnist_test.csv\", 'r')\n",
    "serious_test_data_lines = serious_test_data_file.readlines()\n",
    "serious_test_data_file.close()\n",
    "\n",
    "#scores = [is_match(nn2, r) for r in serious_test_data_lines]\n",
    "scores = [is_match(nn, r) for r in serious_test_data_lines]\n",
    "\"accuracy = {:f}\".format(float(numpy.asarray(scores).sum()) / len(scores))"
   ]
  },
  {
   "cell_type": "code",
   "execution_count": 58,
   "metadata": {},
   "outputs": [
    {
     "name": "stdout",
     "output_type": "stream",
     "text": [
      "[ 0.01  0.01  0.01  0.99  0.01  0.01  0.01  0.01  0.01  0.01]\n"
     ]
    },
    {
     "data": {
      "text/plain": [
       "<matplotlib.image.AxesImage at 0x110b68790>"
      ]
     },
     "execution_count": 58,
     "metadata": {},
     "output_type": "execute_result"
    },
    {
     "data": {
      "image/png": "[encoded data removed]",
      "text/plain": [
       "<matplotlib.figure.Figure at 0x111693310>"
      ]
     },
     "metadata": {},
     "output_type": "display_data"
    }
   ],
   "source": [
    "# label to test\n",
    "label = 3\n",
    "# create the output signals for this label\n",
    "targets = numpy.zeros(no_of_output_nodes) + 0.01\n",
    "# all_values[0] is the target label for this record\n",
    "targets[label] = 0.99\n",
    "print(targets)\n",
    "\n",
    "# get image data\n",
    "image_data = nn2.backquery(targets)\n",
    "\n",
    "# plot image data\n",
    "plt.imshow(image_data.reshape(28,28), cmap='Greys', interpolation='None')"
   ]
  },
  {
   "cell_type": "code",
   "execution_count": null,
   "metadata": {
    "collapsed": true
   },
   "outputs": [],
   "source": []
  }
 ],
 "metadata": {
  "kernelspec": {
   "display_name": "Python 2",
   "language": "python",
   "name": "python2"
  },
  "language_info": {
   "codemirror_mode": {
    "name": "ipython",
    "version": 2
   },
   "file_extension": ".py",
   "mimetype": "text/x-python",
   "name": "python",
   "nbconvert_exporter": "python",
   "pygments_lexer": "ipython2",
   "version": "2.7.13"
  }
 },
 "nbformat": 4,
 "nbformat_minor": 2
}

{
 "cells": [
  {
   "cell_type": "code",
   "execution_count": 115,
   "metadata": {},
   "outputs": [],
   "source": [
    "import pandas as pd\n",
    "import zipfile as z\n",
    "import Levenshtein as ls\n",
    "\n",
    "gtfs_bundle = z.ZipFile(\"./mtba.zip\")\n",
    "f = gtfs_bundle.open(\"stops.txt\")\n",
    "df = pd.read_csv(f)\n",
    "#grp = df.groupby(\"stop_id\")\n",
    "real_data = df[[\"stop_id\", \"stop_name\"]].values"
   ]
  },
  {
   "cell_type": "code",
   "execution_count": null,
   "metadata": {},
   "outputs": [],
   "source": [
    "from leven import levenshtein       \n",
    "import numpy as np\n",
    "from sklearn.cluster import dbscan\n",
    "\n",
    "fake_data = [\n",
    "    (\"1\", \"Rotebühlplatz\"),\n",
    "    (\"X\", \"Hölderlinstraße\"),\n",
    "    (\"Y\", \"Hölderlinplatz\"),\n",
    "    (\"2\", \"Stadtmitte\"),\n",
    "    (\"A\", \"blubblub\"),\n",
    "    (\"2\", \"Marienplatz\"),\n",
    "    (\"3\", \"Marien platz\"),\n",
    "    (\"4\", \"Marienplatzi\"),\n",
    "    (\"77\", \"blabla\"),\n",
    "    (\"81\", \"Rotebühlplatz (U)\"),\n",
    "]\n",
    "\n",
    "data = real_data\n",
    "\n",
    "def levenshtein_distance(x, y):\n",
    "    i, j = int(x[0]), int(y[0])\n",
    "    _, stop_name_a = data[i]\n",
    "    _, stop_name_b = data[j]\n",
    "    return levenshtein(stop_name_a, stop_name_b)\n",
    "\n",
    "length = len(data)\n",
    "table = np.arange(length).reshape(length, 1)\n",
    "_, labels = dbscan(table, metric=levenshtein_distance, eps=5, min_samples=2)\n",
    "labels"
   ]
  },
  {
   "cell_type": "code",
   "execution_count": null,
   "metadata": {},
   "outputs": [],
   "source": []
  }
 ],
 "metadata": {
  "kernelspec": {
   "display_name": "Python 2",
   "language": "python",
   "name": "python2"
  },
  "language_info": {
   "codemirror_mode": {
    "name": "ipython",
    "version": 2
   },
   "file_extension": ".py",
   "mimetype": "text/x-python",
   "name": "python",
   "nbconvert_exporter": "python",
   "pygments_lexer": "ipython2",
   "version": "2.7.10"
  }
 },
 "nbformat": 4,
 "nbformat_minor": 2
}
